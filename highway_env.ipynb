{
 "cells": [
  {
   "cell_type": "code",
   "execution_count": 2,
   "metadata": {},
   "outputs": [
    {
     "name": "stderr",
     "output_type": "stream",
     "text": [
      "/home/michael/Documents/hci_project/venv/lib/python3.10/site-packages/stable_baselines3/common/save_util.py:166: UserWarning: Could not deserialize object lr_schedule. Consider using `custom_objects` argument to replace this object.\n",
      "Exception: 'bytes' object cannot be interpreted as an integer\n",
      "  warnings.warn(\n"
     ]
    },
    {
     "name": "stdout",
     "output_type": "stream",
     "text": [
      "Wrapping the env with a `Monitor` wrapper\n",
      "Wrapping the env in a DummyVecEnv.\n"
     ]
    }
   ],
   "source": [
    "# Environment\n",
    "import gym\n",
    "from highway_env.envs import parking_env, parking_agent_env\n",
    "\n",
    "# Agent\n",
    "from stable_baselines3 import HerReplayBuffer, SAC\n",
    "\n",
    "import random\n",
    "\n",
    "import numpy as np\n",
    "\n",
    "np.random.seed(1)\n",
    "random.seed(1)\n",
    "\n",
    "env = parking_agent_env.ParkingAgentEnv()\n",
    "# env = gym.make('parking-v0')\n",
    "env.config[\"vehicles_count\"] = 14 # For more difficult\n",
    "env.config[\"manual_control\"] = True\n",
    "env.config[\"screen_height\"] = 1000\n",
    "env.config[\"screen_width\"] = 1000\n",
    "env.reset()\n",
    "\n",
    "done = truncated = False\n",
    "obs, info = env.reset()\n",
    "while not done:\n",
    "    obs, reward, done, truncated, info = env.step(env.action_space.sample())\n",
    "    env.render()\n",
    "\n",
    "env.close()"
   ]
  },
  {
   "cell_type": "code",
   "execution_count": null,
   "metadata": {},
   "outputs": [],
   "source": []
  },
  {
   "cell_type": "code",
   "execution_count": null,
   "metadata": {},
   "outputs": [],
   "source": []
  }
 ],
 "metadata": {
  "kernelspec": {
   "display_name": "Python 3",
   "language": "python",
   "name": "python3"
  },
  "language_info": {
   "codemirror_mode": {
    "name": "ipython",
    "version": 3
   },
   "file_extension": ".py",
   "mimetype": "text/x-python",
   "name": "python",
   "nbconvert_exporter": "python",
   "pygments_lexer": "ipython3",
   "version": "3.8.8"
  },
  "vscode": {
   "interpreter": {
    "hash": "6116e54b4054bd867ccdd64d8fd3efd5266f1d0bf346c080a62f13a3651a6579"
   }
  }
 },
 "nbformat": 4,
 "nbformat_minor": 4
}
